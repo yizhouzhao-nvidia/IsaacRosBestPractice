{
 "cells": [
  {
   "cell_type": "code",
   "execution_count": null,
   "id": "191836a3",
   "metadata": {
    "vscode": {
     "languageId": "plaintext"
    }
   },
   "outputs": [],
   "source": [
    "import rclpy\n",
    "from rclpy.node import Node\n",
    "from sensor_msgs.msg import JointState\n",
    "import random\n",
    "import time"
   ]
  },
  {
   "cell_type": "code",
   "execution_count": null,
   "id": "2de470c5",
   "metadata": {
    "vscode": {
     "languageId": "plaintext"
    }
   },
   "outputs": [],
   "source": [
    "class RandomJointCommander(Node):\n",
    "    def __init__(self):\n",
    "        super().__init__('random_joint_commander')\n",
    "        self.publisher_ = self.create_publisher(JointState, 'isaac_joint_commands', 10)\n",
    "        timer_period = 0.5  # seconds\n",
    "        self.timer = self.create_timer(timer_period, self.timer_callback)\n",
    "        self.joint_names = [\n",
    "            'shoulder_pan_joint',\n",
    "            'shoulder_lift_joint',\n",
    "            'elbow_joint',\n",
    "            'wrist_1_joint',\n",
    "            'wrist_2_joint',\n",
    "            'wrist_3_joint'\n",
    "        ]\n",
    "        self.get_logger().info('RandomJointCommander started.')\n",
    "\n",
    "    def timer_callback(self):\n",
    "        msg = JointState()\n",
    "        msg.header.stamp = self.get_clock().now().to_msg()\n",
    "        msg.name = self.joint_names\n",
    "        # Generate random positions between -2 and 2 radians\n",
    "        msg.position = [random.uniform(-2.0, 2.0) for _ in self.joint_names]\n",
    "        self.publisher_.publish(msg)\n",
    "        self.get_logger().info(f'Publishing random joint positions: {msg.position}')\n"
   ]
  },
  {
   "cell_type": "code",
   "execution_count": null,
   "id": "6c7bdf31",
   "metadata": {
    "vscode": {
     "languageId": "plaintext"
    }
   },
   "outputs": [],
   "source": [
    "rclpy.init()\n",
    "node = RandomJointCommander()"
   ]
  },
  {
   "cell_type": "code",
   "execution_count": null,
   "id": "70f6a8ab",
   "metadata": {
    "vscode": {
     "languageId": "plaintext"
    }
   },
   "outputs": [],
   "source": [
    "rclpy.spin(node)"
   ]
  },
  {
   "cell_type": "code",
   "execution_count": null,
   "id": "804bccd6",
   "metadata": {
    "vscode": {
     "languageId": "plaintext"
    }
   },
   "outputs": [],
   "source": []
  }
 ],
 "metadata": {
  "language_info": {
   "name": "python"
  }
 },
 "nbformat": 4,
 "nbformat_minor": 5
}
